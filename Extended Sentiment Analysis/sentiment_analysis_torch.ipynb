{
 "cells": [
  {
   "cell_type": "markdown",
   "metadata": {},
   "source": [
    "<center><h1>Sentiment Analysis</h1></center>\n",
    "<center><h3>using HuggingFace & Pytorch</h3></center>"
   ]
  },
  {
   "cell_type": "markdown",
   "metadata": {},
   "source": [
    "### Import packages"
   ]
  },
  {
   "cell_type": "code",
   "execution_count": 1,
   "metadata": {},
   "outputs": [],
   "source": [
    "import transformers\n",
    "from transformers import get_linear_schedule_with_warmup\n",
    "from transformers import BertModel, BertTokenizer\n",
    "from transformers import AutoConfig, AutoModel, AutoTokenizer\n",
    "from transformers import AdamW\n",
    "\n",
    "import torch\n",
    "from torch import nn, optim\n",
    "from torch.utils.data import Dataset, DataLoader"
   ]
  },
  {
   "cell_type": "code",
   "execution_count": 2,
   "metadata": {},
   "outputs": [],
   "source": [
    "from __future__ import print_function\n",
    "\n",
    "from typing import List, Union, Mapping\n",
    "\n",
    "import numpy as np\n",
    "import pandas as pd\n",
    "\n",
    "import seaborn as sns\n",
    "import matplotlib.pyplot as plt\n",
    "\n",
    "from sklearn.model_selection import train_test_split\n",
    "from sklearn.metrics import confusion_matrix, classification_report\n",
    "from sklearn.preprocessing import LabelEncoder"
   ]
  },
  {
   "cell_type": "code",
   "execution_count": 3,
   "metadata": {},
   "outputs": [
    {
     "data": {
      "text/plain": [
       "True"
      ]
     },
     "execution_count": 3,
     "metadata": {},
     "output_type": "execute_result"
    }
   ],
   "source": [
    "torch.cuda.is_available()"
   ]
  },
  {
   "cell_type": "markdown",
   "metadata": {},
   "source": [
    "Set random state & seed"
   ]
  },
  {
   "cell_type": "code",
   "execution_count": 4,
   "metadata": {},
   "outputs": [
    {
     "data": {
      "text/plain": [
       "device(type='cuda', index=0)"
      ]
     },
     "execution_count": 4,
     "metadata": {},
     "output_type": "execute_result"
    }
   ],
   "source": [
    "SEED = 311200\n",
    "\n",
    "np.random.seed(SEED)\n",
    "torch.manual_seed(SEED)\n",
    "\n",
    "device = torch.device(\"cuda:0\" if torch.cuda.is_available() else \"cpu\")\n",
    "device"
   ]
  },
  {
   "cell_type": "markdown",
   "metadata": {},
   "source": [
    "### Constants"
   ]
  },
  {
   "cell_type": "code",
   "execution_count": 5,
   "metadata": {},
   "outputs": [],
   "source": [
    "PRE_TRAINED_MODEL_NAME = 'bert-base-cased'\n",
    "\n",
    "TEST_SIZE = 0.1\n",
    "MAX_SEQ_LEN = 128\n",
    "BATCH_SIZE = 16\n",
    "EPOCHS = 10"
   ]
  },
  {
   "cell_type": "code",
   "execution_count": 6,
   "metadata": {},
   "outputs": [],
   "source": [
    "tokenizer = BertTokenizer.from_pretrained(PRE_TRAINED_MODEL_NAME)"
   ]
  },
  {
   "cell_type": "code",
   "execution_count": 7,
   "metadata": {},
   "outputs": [],
   "source": [
    "label_encoder = LabelEncoder()"
   ]
  },
  {
   "cell_type": "markdown",
   "metadata": {},
   "source": [
    "### Dataset"
   ]
  },
  {
   "cell_type": "code",
   "execution_count": 8,
   "metadata": {},
   "outputs": [],
   "source": [
    "def preprocess(dataframe):\n",
    "    dataframe = dataframe[[\"OriginalTweet\", \"Sentiment\"]]\n",
    "    return dataframe.rename(columns = {\"OriginalTweet\": \"corpus\", \"Sentiment\": \"labels\"})"
   ]
  },
  {
   "cell_type": "code",
   "execution_count": 9,
   "metadata": {},
   "outputs": [],
   "source": [
    "train_dataframe, val_dataframe = train_test_split(preprocess(pd.read_csv(\"Corona_NLP_train.csv\", encoding='latin-1')), test_size=TEST_SIZE)\n",
    "test_dataframe = preprocess(pd.read_csv(\"Corona_NLP_test.csv\", encoding='latin-1'))\n",
    "\n",
    "train_dataframe = train_dataframe.iloc[:1600*5]"
   ]
  },
  {
   "cell_type": "code",
   "execution_count": 10,
   "metadata": {},
   "outputs": [],
   "source": [
    "train_dataframe[\"labels\"]   = label_encoder.fit_transform(train_dataframe[\"labels\"])\n",
    "val_dataframe[\"labels\"]     = label_encoder.fit_transform(val_dataframe[\"labels\"])\n",
    "test_dataframe[\"labels\"]    = label_encoder.fit_transform(test_dataframe[\"labels\"])\n",
    "\n",
    "train_dataframe.reset_index(drop=True, inplace=True)\n",
    "val_dataframe.reset_index(drop=True, inplace=True)\n",
    "test_dataframe.reset_index(drop=True, inplace=True)"
   ]
  },
  {
   "cell_type": "code",
   "execution_count": 11,
   "metadata": {},
   "outputs": [],
   "source": [
    "class TextClassificationDataset(Dataset):\n",
    "\n",
    "    def __init__(self, corpus: List[str], labels: List[str], max_seq_length: int, dataset_name: str, tokenizer = None, tokenizer_model: str = None) -> None:\n",
    "        self.corpus = corpus\n",
    "        self.labels = labels\n",
    "\n",
    "        self.max_seq_length = max_seq_length\n",
    "\n",
    "        self.dataset_name = dataset_name\n",
    "        self.tokenizer_model = tokenizer_model\n",
    "\n",
    "        if tokenizer == None:\n",
    "            try:\n",
    "                self.tokenizer = BertTokenizer.from_pretrained(self.tokenizer_model)\n",
    "            except:\n",
    "                self.tokenizer = AutoTokenizer.from_pretrained(self.tokenizer_model)\n",
    "        else:\n",
    "            self.tokenizer = tokenizer\n",
    "        \n",
    "        self.sep_token = self.tokenizer.vocab[\"[SEP]\"]\n",
    "        self.cls_token = self.tokenizer.vocab[\"[CLS]\"]\n",
    "        self.pad_token = self.tokenizer.vocab[\"[PAD]\"]\n",
    "\n",
    "    def __len__(self) -> int:\n",
    "        return len(self.labels)\n",
    "\n",
    "    def __getitem__(self, index) -> Mapping[str, Union[str,torch.Tensor]]:\n",
    "        text = self.corpus[index]\n",
    "        label = self.labels[index]\n",
    "\n",
    "        encoding = self.tokenizer.encode_plus(\n",
    "            text,\n",
    "            max_length = self.max_seq_length,\n",
    "            add_special_tokens = True,\n",
    "            return_token_type_ids = False,\n",
    "            pad_to_max_length = True,\n",
    "            return_attention_mask = True,\n",
    "            return_tensors = 'pt'\n",
    "        )\n",
    "\n",
    "        return {\n",
    "            'text': text, \n",
    "            'input_ids': encoding['input_ids'].flatten(),\n",
    "            'attention_mask': encoding['attention_mask'].flatten(),\n",
    "            'labels': torch.tensor(label, dtype=torch.long)\n",
    "        }"
   ]
  },
  {
   "cell_type": "code",
   "execution_count": 12,
   "metadata": {},
   "outputs": [],
   "source": [
    "class TextClassificationLoader:\n",
    "\n",
    "    def get_loader(name, dataframe, max_seq_length, batch_size):\n",
    "        dataset = TextClassificationDataset(\n",
    "            corpus = dataframe['corpus'],\n",
    "            labels = dataframe['labels'],\n",
    "            max_seq_length = max_seq_length,\n",
    "            tokenizer = tokenizer,\n",
    "            dataset_name = name\n",
    "        )\n",
    "\n",
    "        return DataLoader(\n",
    "            dataset, batch_size=batch_size, shuffle=True #, num_workers = 4\n",
    "        )"
   ]
  },
  {
   "cell_type": "code",
   "execution_count": 13,
   "metadata": {},
   "outputs": [],
   "source": [
    "# train_ds = TextClassificationDataset(\n",
    "#     corpus = train_dataframe['corpus'],\n",
    "#     labels = train_dataframe['labels'],\n",
    "#     max_seq_length = MAX_SEQ_LEN,\n",
    "#     tokenizer = tokenizer,\n",
    "#     dataset_name = \"train\"\n",
    "# )\n",
    "# train_load = DataLoader(train_ds, batch_size=64, shuffle=True)\n",
    "# data = next(iter(train_load))\n",
    "# print(data['input_ids'].shape)\n",
    "# print(data['attention_mask'].shape)\n",
    "# print(data['labels'].shape)\n"
   ]
  },
  {
   "cell_type": "code",
   "execution_count": 14,
   "metadata": {},
   "outputs": [],
   "source": [
    "train_dataset   = TextClassificationLoader.get_loader(\"train\", train_dataframe, MAX_SEQ_LEN, BATCH_SIZE)\n",
    "val_dataset     = TextClassificationLoader.get_loader(\"val\", val_dataframe, MAX_SEQ_LEN, BATCH_SIZE)\n",
    "test_dataset    = TextClassificationLoader.get_loader(\"test\", test_dataframe, MAX_SEQ_LEN, BATCH_SIZE)"
   ]
  },
  {
   "cell_type": "code",
   "execution_count": 15,
   "metadata": {},
   "outputs": [
    {
     "data": {
      "text/plain": [
       "([0, 1, 2, 3, 4], 5)"
      ]
     },
     "execution_count": 15,
     "metadata": {},
     "output_type": "execute_result"
    }
   ],
   "source": [
    "LABELS = list(np.unique(train_dataframe[\"labels\"]))\n",
    "NUM_LABELS = len(LABELS)\n",
    "LABELS, NUM_LABELS"
   ]
  },
  {
   "cell_type": "code",
   "execution_count": 16,
   "metadata": {},
   "outputs": [
    {
     "name": "stderr",
     "output_type": "stream",
     "text": [
      "Truncation was not explicitly activated but `max_length` is provided a specific value, please use `truncation=True` to explicitly truncate examples to max length. Defaulting to 'longest_first' truncation strategy. If you encode pairs of sequences (GLUE-style) with the tokenizer you can select this strategy more precisely by providing a specific strategy to `truncation`.\n"
     ]
    },
    {
     "name": "stdout",
     "output_type": "stream",
     "text": [
      "dict_keys(['text', 'input_ids', 'attention_mask', 'labels'])\n",
      "torch.Size([16, 128])\n",
      "torch.Size([16, 128])\n",
      "torch.Size([16])\n",
      " Sentence: Good morning, how are you my dear? I am really grateful for today's meeting.\n",
      "   Tokens: ['Good', 'morning', ',', 'how', 'are', 'you', 'my', 'dear', '?', 'I', 'am', 'really', 'grateful', 'for', 'today', \"'\", 's', 'meeting', '.']\n",
      "Token IDs: [2750, 2106, 117, 1293, 1132, 1128, 1139, 7059, 136, 146, 1821, 1541, 9473, 1111, 2052, 112, 188, 2309, 119]\n"
     ]
    },
    {
     "name": "stderr",
     "output_type": "stream",
     "text": [
      "C:\\Users\\Antoine\\AppData\\Local\\Programs\\Python\\Python39\\lib\\site-packages\\transformers\\tokenization_utils_base.py:2226: FutureWarning: The `pad_to_max_length` argument is deprecated and will be removed in a future version, use `padding=True` or `padding='longest'` to pad to the longest sequence in the batch, or use `padding='max_length'` to pad to a max length. In this case, you can give a specific length with `max_length` (e.g. `max_length=45`) or leave max_length to None to pad to the maximal input size of the model (e.g. 512 for Bert).\n",
      "  warnings.warn(\n"
     ]
    }
   ],
   "source": [
    "def testing_dataset():\n",
    "    data = next(iter(test_dataset))\n",
    "\n",
    "    print(data.keys())\n",
    "    print(data['input_ids'].shape)\n",
    "    print(data['attention_mask'].shape)\n",
    "    print(data['labels'].shape)\n",
    "\n",
    "def testing_sample():\n",
    "    sample = \"Good morning, how are you my dear? I am really grateful for today's meeting.\"\n",
    "\n",
    "    tokens = tokenizer.tokenize(sample)\n",
    "    token_ids = tokenizer.convert_tokens_to_ids(tokens)\n",
    "    print(f' Sentence: {sample}')\n",
    "    print(f'   Tokens: {tokens}')\n",
    "    print(f'Token IDs: {token_ids}')\n",
    "\n",
    "testing_dataset()\n",
    "testing_sample()"
   ]
  },
  {
   "cell_type": "markdown",
   "metadata": {},
   "source": [
    "### Model"
   ]
  },
  {
   "cell_type": "code",
   "execution_count": 17,
   "metadata": {},
   "outputs": [],
   "source": [
    "class BertClassification(nn.Module):\n",
    "\n",
    "    def __init__(self, pretrained_model_name: str, num_labels: int = str) -> None:\n",
    "        super(BertClassification, self).__init__()\n",
    "\n",
    "        try:\n",
    "            self.model = BertModel.from_pretrained(pretrained_model_name)\n",
    "        except:\n",
    "            config = AutoConfig.from_pretrained(pretrained_model_name, num_labels = num_labels)\n",
    "            self.model = AutoModel.from_pretrained(pretrained_model_name, config=config)\n",
    "\n",
    "        self.dropout = nn.Dropout(p = 0.3)\n",
    "        self.final_layer = nn.Linear(self.model.config.hidden_size, num_labels)\n",
    "\n",
    "    def forward(self, input_ids, attention_mask=None, head_mask=None):\n",
    "        output = self.model(\n",
    "            input_ids = input_ids,\n",
    "            attention_mask = attention_mask,\n",
    "            head_mask = head_mask\n",
    "        )\n",
    "\n",
    "        output = self.dropout(output[0].mean(axis=1))\n",
    "        output = self.final_layer(output)\n",
    "\n",
    "        return output"
   ]
  },
  {
   "cell_type": "code",
   "execution_count": 18,
   "metadata": {},
   "outputs": [
    {
     "name": "stderr",
     "output_type": "stream",
     "text": [
      "Some weights of the model checkpoint at bert-base-cased were not used when initializing BertModel: ['cls.seq_relationship.bias', 'cls.predictions.transform.LayerNorm.bias', 'cls.predictions.transform.dense.bias', 'cls.seq_relationship.weight', 'cls.predictions.decoder.weight', 'cls.predictions.transform.LayerNorm.weight', 'cls.predictions.transform.dense.weight', 'cls.predictions.bias']\n",
      "- This IS expected if you are initializing BertModel from the checkpoint of a model trained on another task or with another architecture (e.g. initializing a BertForSequenceClassification model from a BertForPreTraining model).\n",
      "- This IS NOT expected if you are initializing BertModel from the checkpoint of a model that you expect to be exactly identical (initializing a BertForSequenceClassification model from a BertForSequenceClassification model).\n"
     ]
    }
   ],
   "source": [
    "model = BertClassification(PRE_TRAINED_MODEL_NAME, NUM_LABELS)\n",
    "model = model.to(device)"
   ]
  },
  {
   "cell_type": "markdown",
   "metadata": {},
   "source": [
    "### Training Loop"
   ]
  },
  {
   "cell_type": "code",
   "execution_count": 19,
   "metadata": {},
   "outputs": [],
   "source": [
    "optimizer = AdamW(model.parameters(), lr=2e-5, correct_bias=False)\n",
    "total_steps = len(train_dataset) * EPOCHS\n",
    "\n",
    "scheduler = get_linear_schedule_with_warmup(\n",
    "    optimizer,\n",
    "    num_warmup_steps=0,\n",
    "    num_training_steps=total_steps\n",
    ")\n",
    "\n",
    "loss_fn = nn.CrossEntropyLoss().to(device)"
   ]
  },
  {
   "cell_type": "code",
   "execution_count": 20,
   "metadata": {},
   "outputs": [],
   "source": [
    "def train_epoch(model, data_loader, loss_fn, optimizer, device, scheduler, total_length):\n",
    "    model = model.train()\n",
    "\n",
    "    losses = []\n",
    "    correct_predictions = 0\n",
    "\n",
    "    index = 1\n",
    "\n",
    "    for data in data_loader:\n",
    "\n",
    "        input_ids       = data[\"input_ids\"].to(device)\n",
    "        attention_mask  = data[\"attention_mask\"].to(device)\n",
    "        labels          = data[\"labels\"].to(device)\n",
    "\n",
    "        outputs = model(input_ids = input_ids, attention_mask = attention_mask)\n",
    "\n",
    "        _, preds = torch.max(outputs, dim = 1)\n",
    "        \n",
    "        loss = loss_fn(outputs, labels)\n",
    "\n",
    "        correct_predictions += torch.sum(preds == labels)\n",
    "        losses.append(loss.item())\n",
    "        \n",
    "        accuracy = round(float(correct_predictions.double() / (index*BATCH_SIZE)), 4)\n",
    "        try: loss_value = losses[-1]\n",
    "        except: loss_value = 0\n",
    "        print(f\" {index}/{int(len(train_dataframe)/BATCH_SIZE)} : accuracy {accuracy} \\t loss {loss_value}\", end=\"\\r\")\n",
    "\n",
    "        loss.backward()\n",
    "        nn.utils.clip_grad_norm_(model.parameters(), max_norm = 1.0)\n",
    "        optimizer.step()\n",
    "        scheduler.step()\n",
    "        optimizer.zero_grad()\n",
    "\n",
    "        index += 1\n",
    "\n",
    "    return correct_predictions.double() / total_length, np.mean(losses)\n"
   ]
  },
  {
   "cell_type": "code",
   "execution_count": 21,
   "metadata": {},
   "outputs": [],
   "source": [
    "def eval_model(model, data_loader, loss_fn, device, total_length):\n",
    "    model = model.eval()\n",
    "\n",
    "    losses = []\n",
    "    correct_predictions = 0\n",
    "\n",
    "    with torch.no_grad():\n",
    "        for data in data_loader:\n",
    "            input_ids       = data[\"input_ids\"].to(device)\n",
    "            attention_mask  = data[\"attention_mask\"].to(device)\n",
    "            labels          = data[\"labels\"].to(device)\n",
    "\n",
    "            outputs = model(input_ids = input_ids, attention_mask = attention_mask)\n",
    "\n",
    "            _, preds = torch.max(outputs, dim = 1)\n",
    "\n",
    "            loss = loss_fn(outputs, labels)\n",
    "            \n",
    "            correct_predictions += torch.sum(preds == labels)\n",
    "            losses.append(loss.item())\n",
    "\n",
    "    return correct_predictions.double() / total_length, np.mean(losses)"
   ]
  },
  {
   "cell_type": "code",
   "execution_count": 22,
   "metadata": {},
   "outputs": [
    {
     "name": "stdout",
     "output_type": "stream",
     "text": [
      "Epoch n°1/5\n",
      "--------------------\n",
      " [Train] loss 1.0345918399095535 / acc 0.562250631717\n",
      " [Val] loss 0.7434204404437265 / acc 0.7118561710398444\n",
      "\n",
      "Epoch n°2/5\n",
      "--------------------\n",
      " [Train] loss 0.5549457947313785 / acc 0.7937500000000001\n",
      " [Val] loss 0.863855108849762 / acc 0.7028668610301263\n",
      "\n",
      "Epoch n°3/5\n",
      "--------------------\n",
      " [Train] loss 0.3204675003401935 / acc 0.8921250000000001\n",
      " [Val] loss 0.9021283412539913 / acc 0.7322643343051506\n",
      "\n",
      "Epoch n°4/5\n",
      "--------------------\n",
      " [Train] loss 0.19909360670950263 / acc 0.9417518563145\n",
      " [Val] loss 1.1870251112480381 / acc 0.7337220602526725\n",
      "\n",
      "Epoch n°5/5\n",
      "--------------------\n",
      " [Train] loss 0.13533153914660215 / acc 0.9622539700365\n",
      " [Val] loss 1.5387078069850744 / acc 0.7334791059280855\n",
      "\n"
     ]
    }
   ],
   "source": [
    "history = {\n",
    "    'train_acc': [],\n",
    "    'train_loss': [],\n",
    "    'val_acc': [],\n",
    "    'val_loss': [],\n",
    "}\n",
    "best_accuracy = 0\n",
    "\n",
    "length_train = len(train_dataframe)\n",
    "length_val = len(val_dataframe)\n",
    "\n",
    "EPOCHS = 5\n",
    "\n",
    "for epoch in range(EPOCHS):\n",
    "    print(f'Epoch n°{epoch+1}/{EPOCHS}')\n",
    "    print('-' * 20)\n",
    "\n",
    "    train_acc, train_loss = train_epoch(\n",
    "        model, train_dataset, loss_fn, optimizer, device, scheduler, length_train\n",
    "    )\n",
    "\n",
    "    print(f' [Train] loss {train_loss} / acc {train_acc}')\n",
    "\n",
    "    val_acc, val_loss = eval_model(\n",
    "        model, val_dataset, loss_fn, device, length_val\n",
    "    )\n",
    "\n",
    "    print(f' [Val] loss {val_loss} / acc {val_acc}\\n')\n",
    "\n",
    "    history['train_acc'].append(train_acc)\n",
    "    history['train_loss'].append(train_loss)\n",
    "    history['val_acc'].append(val_acc)\n",
    "    history['val_loss'].append(val_loss)\n",
    "\n",
    "    if val_acc > best_accuracy:\n",
    "        torch.save(model.state_dict(), 'best_model_state.bin')\n",
    "        best_accuracy = val_acc"
   ]
  },
  {
   "cell_type": "code",
   "execution_count": 23,
   "metadata": {},
   "outputs": [
    {
     "data": {
      "text/plain": [
       "(0.0, 1.0)"
      ]
     },
     "execution_count": 23,
     "metadata": {},
     "output_type": "execute_result"
    },
    {
     "data": {
      "image/png": "[encoded data removed]",
      "text/plain": [
       "<Figure size 432x288 with 1 Axes>"
      ]
     },
     "metadata": {
      "needs_background": "light"
     },
     "output_type": "display_data"
    }
   ],
   "source": [
    "plt.plot(history['train_acc'], label='train accuracy')\n",
    "plt.plot(history['val_acc'], label='validation accuracy')\n",
    "plt.title('Training history')\n",
    "plt.ylabel('Accuracy')\n",
    "plt.xlabel('Epoch')\n",
    "plt.legend()\n",
    "plt.ylim([0, 1])"
   ]
  },
  {
   "cell_type": "code",
   "execution_count": 25,
   "metadata": {},
   "outputs": [
    {
     "data": {
      "text/plain": [
       "(0.0, 1.0)"
      ]
     },
     "execution_count": 25,
     "metadata": {},
     "output_type": "execute_result"
    },
    {
     "data": {
      "image/png": "[encoded data removed]",
      "text/plain": [
       "<Figure size 432x288 with 1 Axes>"
      ]
     },
     "metadata": {
      "needs_background": "light"
     },
     "output_type": "display_data"
    }
   ],
   "source": [
    "plt.plot(history['train_loss'], label='train loss')\n",
    "plt.plot(history['val_loss'], label='validation loss')\n",
    "plt.title('Training history')\n",
    "plt.ylabel('Loss')\n",
    "plt.xlabel('Epoch')\n",
    "plt.legend()\n",
    "plt.ylim([0, 1])"
   ]
  }
 ],
 "metadata": {
  "interpreter": {
   "hash": "e5c218ad9059e1c9e84203d104fe8233533c1759f7f4f2f123d0417ef0f82576"
  },
  "kernelspec": {
   "display_name": "Python 3.9.7 64-bit",
   "language": "python",
   "name": "python3"
  },
  "language_info": {
   "codemirror_mode": {
    "name": "ipython",
    "version": 3
   },
   "file_extension": ".py",
   "mimetype": "text/x-python",
   "name": "python",
   "nbconvert_exporter": "python",
   "pygments_lexer": "ipython3",
   "version": "3.9.7"
  },
  "orig_nbformat": 4
 },
 "nbformat": 4,
 "nbformat_minor": 2
}
